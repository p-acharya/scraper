{
 "cells": [
  {
   "cell_type": "code",
   "execution_count": 136,
   "metadata": {},
   "outputs": [],
   "source": [
    "import urllib3\n",
    "import facebook\n",
    "import requests\n",
    "import pandas as pd\n",
    "import datetime\n",
    "import os.path\n",
    "from os import path"
   ]
  },
  {
   "cell_type": "code",
   "execution_count": 137,
   "metadata": {},
   "outputs": [],
   "source": [
    "token = 'EAAgOQRZBhF5oBANWZCJnVoWtJ0mnQmdZAKzIIz3jpEvNAb30zT8dygUWDYdxhZAZCU7eZA3do7G8wxOWqzATsnk9Qq7rv4H7u4EBZBuMJ2RaTtFmg17RUaC8VNcYFNcyG9v5mztJ9sIrjMVPAzk7cFisEYVkqFpGuDqUjBqBht9nwZDZD'\n",
    "user = '100002345472592'"
   ]
  },
  {
   "cell_type": "code",
   "execution_count": 138,
   "metadata": {},
   "outputs": [],
   "source": [
    "graph = facebook.GraphAPI(access_token=token, version = 2.8)\n",
    "events = graph.request('me?fields=birthday')\n",
    "\n",
    "args = {'fields' : 'birthday,gender' }\n",
    "\n",
    "friends = graph.get_object(\"me\",**args)\n"
   ]
  },
  {
   "cell_type": "code",
   "execution_count": 139,
   "metadata": {},
   "outputs": [
    {
     "name": "stdout",
     "output_type": "stream",
     "text": [
      "{'birthday': '09/18/1997', 'gender': 'female', 'id': '2290246267730200'}\n"
     ]
    }
   ],
   "source": [
    "print(friends)"
   ]
  },
  {
   "cell_type": "code",
   "execution_count": 140,
   "metadata": {},
   "outputs": [
    {
     "name": "stdout",
     "output_type": "stream",
     "text": [
      "{'birthday': '09/18/1997', 'id': '2290246267730200'}\n"
     ]
    }
   ],
   "source": [
    "print(events)"
   ]
  },
  {
   "cell_type": "code",
   "execution_count": 141,
   "metadata": {},
   "outputs": [
    {
     "data": {
      "text/plain": [
       "'09/18/1997'"
      ]
     },
     "execution_count": 141,
     "metadata": {},
     "output_type": "execute_result"
    }
   ],
   "source": [
    "friends['birthday']"
   ]
  },
  {
   "cell_type": "code",
   "execution_count": 142,
   "metadata": {},
   "outputs": [],
   "source": [
    "birthday = requests.get('https://graph.facebook.com/v2.7/' + 'me?fields=name,email,gender,birthday&access_token='+token) "
   ]
  },
  {
   "cell_type": "code",
   "execution_count": 143,
   "metadata": {},
   "outputs": [],
   "source": [
    "birthday_json = birthday.json() #parses json and returns dict"
   ]
  },
  {
   "cell_type": "code",
   "execution_count": 144,
   "metadata": {},
   "outputs": [
    {
     "data": {
      "text/plain": [
       "{'name': 'Poorvi Acharya',\n",
       " 'email': 'poorvi.acharya@gmail.com',\n",
       " 'gender': 'female',\n",
       " 'birthday': '09/18/1997',\n",
       " 'id': '2290246267730200'}"
      ]
     },
     "execution_count": 144,
     "metadata": {},
     "output_type": "execute_result"
    }
   ],
   "source": [
    "birthday_json"
   ]
  },
  {
   "cell_type": "code",
   "execution_count": 145,
   "metadata": {},
   "outputs": [
    {
     "data": {
      "text/plain": [
       "<Response [200]>"
      ]
     },
     "execution_count": 145,
     "metadata": {},
     "output_type": "execute_result"
    }
   ],
   "source": [
    "birthday"
   ]
  },
  {
   "cell_type": "code",
   "execution_count": 146,
   "metadata": {},
   "outputs": [],
   "source": [
    "df = pd.DataFrame.from_dict(birthday_json, orient='index')"
   ]
  },
  {
   "cell_type": "code",
   "execution_count": 147,
   "metadata": {},
   "outputs": [],
   "source": [
    "df = pd.DataFrame.transpose(df)"
   ]
  },
  {
   "cell_type": "code",
   "execution_count": 148,
   "metadata": {},
   "outputs": [],
   "source": [
    "df['Date'] = datetime.datetime.today().strftime('%Y-%m-%d')"
   ]
  },
  {
   "cell_type": "code",
   "execution_count": 149,
   "metadata": {},
   "outputs": [
    {
     "data": {
      "text/html": [
       "<div>\n",
       "<style scoped>\n",
       "    .dataframe tbody tr th:only-of-type {\n",
       "        vertical-align: middle;\n",
       "    }\n",
       "\n",
       "    .dataframe tbody tr th {\n",
       "        vertical-align: top;\n",
       "    }\n",
       "\n",
       "    .dataframe thead th {\n",
       "        text-align: right;\n",
       "    }\n",
       "</style>\n",
       "<table border=\"1\" class=\"dataframe\">\n",
       "  <thead>\n",
       "    <tr style=\"text-align: right;\">\n",
       "      <th></th>\n",
       "      <th>name</th>\n",
       "      <th>email</th>\n",
       "      <th>gender</th>\n",
       "      <th>birthday</th>\n",
       "      <th>id</th>\n",
       "      <th>Date</th>\n",
       "    </tr>\n",
       "  </thead>\n",
       "  <tbody>\n",
       "    <tr>\n",
       "      <th>0</th>\n",
       "      <td>Poorvi Acharya</td>\n",
       "      <td>poorvi.acharya@gmail.com</td>\n",
       "      <td>female</td>\n",
       "      <td>09/18/1997</td>\n",
       "      <td>2290246267730200</td>\n",
       "      <td>2019-06-13</td>\n",
       "    </tr>\n",
       "  </tbody>\n",
       "</table>\n",
       "</div>"
      ],
      "text/plain": [
       "             name                     email  gender    birthday  \\\n",
       "0  Poorvi Acharya  poorvi.acharya@gmail.com  female  09/18/1997   \n",
       "\n",
       "                 id        Date  \n",
       "0  2290246267730200  2019-06-13  "
      ]
     },
     "execution_count": 149,
     "metadata": {},
     "output_type": "execute_result"
    }
   ],
   "source": [
    "df"
   ]
  },
  {
   "cell_type": "code",
   "execution_count": 150,
   "metadata": {},
   "outputs": [
    {
     "name": "stdout",
     "output_type": "stream",
     "text": [
      "true\n"
     ]
    },
    {
     "name": "stderr",
     "output_type": "stream",
     "text": [
      "C:\\ProgramData\\Anaconda3\\lib\\site-packages\\ipykernel_launcher.py:7: SettingWithCopyWarning: \n",
      "A value is trying to be set on a copy of a slice from a DataFrame\n",
      "\n",
      "See the caveats in the documentation: http://pandas.pydata.org/pandas-docs/stable/indexing.html#indexing-view-versus-copy\n",
      "  import sys\n"
     ]
    }
   ],
   "source": [
    "if (path.exists(\"result.csv\")):\n",
    "    print(\"true\")\n",
    "    olddf = pd.read_csv('result.csv')\n",
    "    olddf.drop(olddf.columns[olddf.columns.str.contains('unnamed',case = False)],axis = 1, inplace = True)\n",
    "    # oldDate = olddf['Date']\n",
    "    # oldDate[0] = \"2019-06-10\"\n",
    "    olddf.tail(1)['Date'].iloc[-1] = \"2019-06-10\"\n",
    "    \n",
    "    if olddf.tail(1)['Date'].iloc[-1] != datetime.datetime.today().strftime('%Y-%m-%d'):\n",
    "#         df['Date'] = datetime.datetime.today().strftime('%Y-%m-%d')\n",
    "        df = pd.concat([olddf, df])"
   ]
  },
  {
   "cell_type": "code",
   "execution_count": 151,
   "metadata": {},
   "outputs": [],
   "source": [
    "df.drop(df.columns[df.columns.str.contains('unnamed',case = False)],axis = 1, inplace = True)\n",
    "df.to_csv(\"result.csv\")"
   ]
  },
  {
   "cell_type": "code",
   "execution_count": 152,
   "metadata": {},
   "outputs": [
    {
     "data": {
      "text/html": [
       "<div>\n",
       "<style scoped>\n",
       "    .dataframe tbody tr th:only-of-type {\n",
       "        vertical-align: middle;\n",
       "    }\n",
       "\n",
       "    .dataframe tbody tr th {\n",
       "        vertical-align: top;\n",
       "    }\n",
       "\n",
       "    .dataframe thead th {\n",
       "        text-align: right;\n",
       "    }\n",
       "</style>\n",
       "<table border=\"1\" class=\"dataframe\">\n",
       "  <thead>\n",
       "    <tr style=\"text-align: right;\">\n",
       "      <th></th>\n",
       "      <th>name</th>\n",
       "      <th>email</th>\n",
       "      <th>gender</th>\n",
       "      <th>birthday</th>\n",
       "      <th>id</th>\n",
       "      <th>Date</th>\n",
       "    </tr>\n",
       "  </thead>\n",
       "  <tbody>\n",
       "    <tr>\n",
       "      <th>0</th>\n",
       "      <td>Poorvi Acharya</td>\n",
       "      <td>poorvi.acharya@gmail.com</td>\n",
       "      <td>female</td>\n",
       "      <td>09/18/1997</td>\n",
       "      <td>2290246267730200</td>\n",
       "      <td>2019-06-10</td>\n",
       "    </tr>\n",
       "    <tr>\n",
       "      <th>1</th>\n",
       "      <td>Poorvi Acharya</td>\n",
       "      <td>poorvi.acharya@gmail.com</td>\n",
       "      <td>female</td>\n",
       "      <td>09/18/1997</td>\n",
       "      <td>2290246267730200</td>\n",
       "      <td>2019-06-10</td>\n",
       "    </tr>\n",
       "    <tr>\n",
       "      <th>0</th>\n",
       "      <td>Poorvi Acharya</td>\n",
       "      <td>poorvi.acharya@gmail.com</td>\n",
       "      <td>female</td>\n",
       "      <td>09/18/1997</td>\n",
       "      <td>2290246267730200</td>\n",
       "      <td>2019-06-13</td>\n",
       "    </tr>\n",
       "  </tbody>\n",
       "</table>\n",
       "</div>"
      ],
      "text/plain": [
       "             name                     email  gender    birthday  \\\n",
       "0  Poorvi Acharya  poorvi.acharya@gmail.com  female  09/18/1997   \n",
       "1  Poorvi Acharya  poorvi.acharya@gmail.com  female  09/18/1997   \n",
       "0  Poorvi Acharya  poorvi.acharya@gmail.com  female  09/18/1997   \n",
       "\n",
       "                 id        Date  \n",
       "0  2290246267730200  2019-06-10  \n",
       "1  2290246267730200  2019-06-10  \n",
       "0  2290246267730200  2019-06-13  "
      ]
     },
     "execution_count": 152,
     "metadata": {},
     "output_type": "execute_result"
    }
   ],
   "source": [
    "df"
   ]
  },
  {
   "cell_type": "code",
   "execution_count": null,
   "metadata": {},
   "outputs": [],
   "source": []
  },
  {
   "cell_type": "code",
   "execution_count": null,
   "metadata": {},
   "outputs": [],
   "source": []
  },
  {
   "cell_type": "code",
   "execution_count": 156,
   "metadata": {},
   "outputs": [
    {
     "data": {
      "text/plain": [
       "'2019-06-12'"
      ]
     },
     "execution_count": 156,
     "metadata": {},
     "output_type": "execute_result"
    }
   ],
   "source": [
    "datetime.datetime.today().replace(day=(datetime.datetime.today().day-1)).strftime('%Y-%m-%d')"
   ]
  },
  {
   "cell_type": "code",
   "execution_count": 154,
   "metadata": {},
   "outputs": [
    {
     "data": {
      "text/plain": [
       "12"
      ]
     },
     "execution_count": 154,
     "metadata": {},
     "output_type": "execute_result"
    }
   ],
   "source": []
  }
 ],
 "metadata": {
  "kernelspec": {
   "display_name": "Python 3",
   "language": "python",
   "name": "python3"
  },
  "language_info": {
   "codemirror_mode": {
    "name": "ipython",
    "version": 3
   },
   "file_extension": ".py",
   "mimetype": "text/x-python",
   "name": "python",
   "nbconvert_exporter": "python",
   "pygments_lexer": "ipython3",
   "version": "3.7.3"
  }
 },
 "nbformat": 4,
 "nbformat_minor": 2
}
